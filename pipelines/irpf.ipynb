{
 "cells": [
  {
   "cell_type": "markdown",
   "id": "94d24587-69fd-48cb-99fd-051838ab890d",
   "metadata": {},
   "source": [
    "### **irpf.ipynb** ###\n",
    "### **Pipeline for converting IRPF pdf to xml** ###\n",
    "\n",
    "* ##### 01 - Install packages\n",
    "* ##### 02 - Import packages\n",
    "* ##### 03 - Create tasks\n",
    "* ##### 04 - Create pipeline\n",
    "* ##### 05 - Create pipeline yaml\n",
    "* ##### 06 - Create pipeline run"
   ]
  },
  {
   "cell_type": "markdown",
   "id": "d445a6a4-2984-4898-a53a-a53d8d5a0af3",
   "metadata": {},
   "source": [
    "### 01 - Install packages"
   ]
  },
  {
   "cell_type": "code",
   "execution_count": null,
   "id": "9aa74eae-b1b5-4640-a9f3-69dfc4bbc26c",
   "metadata": {
    "tags": []
   },
   "outputs": [],
   "source": [
    "!pip install --upgrade kfp[kubernetes]"
   ]
  },
  {
   "cell_type": "markdown",
   "id": "9337323e-9db3-4ee7-8baa-07094ea7b096",
   "metadata": {},
   "source": [
    "### 02 - Import packages"
   ]
  },
  {
   "cell_type": "code",
   "execution_count": null,
   "id": "30cdba39-d642-425e-8e47-b71fcae15d1e",
   "metadata": {
    "tags": []
   },
   "outputs": [],
   "source": [
    "import os\n",
    "import sys\n",
    "sys.path.append(os.path.dirname(os.getcwd()))\n",
    "\n",
    "import kfp\n",
    "import kfp.kubernetes as kubernetes\n",
    "\n",
    "from components.download_document import download_document\n",
    "from components.extract_text      import extract_text\n",
    "from components.index_document    import index_document\n",
    "from components.llm               import llm\n",
    "from components.remove_watermark  import remove_watermark\n",
    "from components.upload_document   import upload_document"
   ]
  },
  {
   "cell_type": "markdown",
   "id": "bb5c5d5b-1809-4c9f-a4cc-463c393767fc",
   "metadata": {},
   "source": [
    "### 03 - Create tasks"
   ]
  },
  {
   "cell_type": "code",
   "execution_count": null,
   "id": "13731526-a6cb-4d77-ba0a-182c42b4edd7",
   "metadata": {
    "tags": []
   },
   "outputs": [],
   "source": [
    "image_boto3     = '<image_boto3>'\n",
    "image_fitz      = '<image_fitz>'\n",
    "image_llm       = '<image_llm>'\n",
    "image_milvus    = '<image_milvus>'\n",
    "image_tesseract = '<image_tesseract>'"
   ]
  },
  {
   "cell_type": "code",
   "execution_count": null,
   "id": "e7b56c96-eccd-436a-96ce-f2069d77c5cd",
   "metadata": {
    "tags": []
   },
   "outputs": [],
   "source": [
    "download_document_op = kfp.dsl.component(\n",
    "    func       = download_document,\n",
    "    base_image = image_boto3\n",
    ")"
   ]
  },
  {
   "cell_type": "code",
   "execution_count": null,
   "id": "dbba56fe-d575-42eb-ab8c-4f8477bf30e5",
   "metadata": {},
   "outputs": [],
   "source": [
    "remove_watermark_op = kfp.dsl.component(\n",
    "    func       = remove_watermark,\n",
    "    base_image = image_fitz\n",
    ")"
   ]
  },
  {
   "cell_type": "code",
   "execution_count": null,
   "id": "c308376d-748a-49b3-8835-fb43f5ffd783",
   "metadata": {
    "tags": []
   },
   "outputs": [],
   "source": [
    "extract_text_op = kfp.dsl.component(\n",
    "    func       = extract_text,\n",
    "    base_image = image_tesseract\n",
    ")"
   ]
  },
  {
   "cell_type": "code",
   "execution_count": null,
   "id": "45e2b3cb-f7b8-462d-bec5-3fde11f15bf8",
   "metadata": {
    "tags": []
   },
   "outputs": [],
   "source": [
    "index_document_op = kfp.dsl.component(\n",
    "    func       = index_document,\n",
    "    base_image = image_milvus\n",
    ")"
   ]
  },
  {
   "cell_type": "code",
   "execution_count": null,
   "id": "86a7c0cd-eeb9-40e8-88b8-6fe59e35d113",
   "metadata": {
    "tags": []
   },
   "outputs": [],
   "source": [
    "llm_op = kfp.dsl.component(\n",
    "    func       = llm,\n",
    "    base_image = image_llm\n",
    ")"
   ]
  },
  {
   "cell_type": "code",
   "execution_count": null,
   "id": "a2f02815-8da4-4895-b0d5-72a648cdcb9d",
   "metadata": {
    "tags": []
   },
   "outputs": [],
   "source": [
    "upload_document_op = kfp.dsl.component(\n",
    "    func       = upload_document,\n",
    "    base_image = image_boto3\n",
    ")"
   ]
  },
  {
   "cell_type": "markdown",
   "id": "b6f44ce4-ecb2-456d-ac70-376b083555f0",
   "metadata": {},
   "source": [
    "### 04 - Create pipeline"
   ]
  },
  {
   "cell_type": "code",
   "execution_count": null,
   "id": "61e97357-e544-4cd8-88e0-c901bb0451ed",
   "metadata": {
    "tags": []
   },
   "outputs": [],
   "source": [
    "pipeline_name        = 'irpf'\n",
    "pipeline_description = 'Convert IRPF .pdf to .xml'"
   ]
  },
  {
   "cell_type": "code",
   "execution_count": null,
   "id": "36c7ee17-d823-47d4-9d52-9f2ea7b377eb",
   "metadata": {
    "tags": []
   },
   "outputs": [],
   "source": [
    "@kfp.dsl.pipeline(\n",
    "    name        = pipeline_name,\n",
    "    description = pipeline_description\n",
    ")\n",
    "def pipeline(\n",
    "    s3_service_name      : str,\n",
    "    s3_endpoint_url      : str,\n",
    "    s3_access_key_id     : str,\n",
    "    s3_secret_access_key : str,\n",
    "    s3_region            : str,\n",
    "    s3_bucket            : str,\n",
    "    s3_filename          : str,\n",
    "    milvus_uri           : str,\n",
    "    milvus_username      : str,\n",
    "    milvus_password      : str,\n",
    "    milvus_collection    : str,\n",
    "    inference_server     : str,\n",
    "    model_name           : str,\n",
    "    remove_watermark     : bool,\n",
    "    storage_class_name   : str\n",
    "):\n",
    "\n",
    "    # Imports\n",
    "\n",
    "    import os\n",
    "\n",
    "    # Create PVC task\n",
    "\n",
    "    create_pvc_task = kubernetes.CreatePVC(\n",
    "        pvc_name_suffix    = '-pipeline-pvc',\n",
    "        size               = '1Gi',\n",
    "        access_modes       = ['ReadWriteOnce'],\n",
    "        storage_class_name = storage_class_name\n",
    "    )\n",
    "\n",
    "    pvc_directory = os.path.join('/', 'pipeline', pipeline_name)\n",
    "    pvc_name      = create_pvc_task.outputs['name']\n",
    "\n",
    "    # Download document task\n",
    "\n",
    "    download_document_task = download_document_op(\n",
    "        s3_service_name      = s3_service_name,\n",
    "        s3_endpoint_url      = s3_endpoint_url,\n",
    "        s3_access_key_id     = s3_access_key_id,\n",
    "        s3_secret_access_key = s3_secret_access_key,\n",
    "        s3_region            = s3_region,\n",
    "        s3_bucket            = s3_bucket,\n",
    "        s3_filename          = s3_filename,\n",
    "        pvc_directory        = pvc_directory\n",
    "    )\n",
    "\n",
    "    kubernetes.mount_pvc(\n",
    "        task       = download_document_task,\n",
    "        pvc_name   = pvc_name,\n",
    "        mount_path = pvc_directory\n",
    "    )\n",
    "\n",
    "    download_document_task.set_caching_options(False)\n",
    "    download_document_task.after(create_pvc_task)\n",
    "\n",
    "    # Remove watermark task\n",
    "\n",
    "    remove_watermark_task = remove_watermark_op(\n",
    "        pvc_directory    = pvc_directory,\n",
    "        pvc_filename     = s3_filename,\n",
    "        remove_watermark = remove_watermark\n",
    "    )\n",
    "\n",
    "    kubernetes.mount_pvc(\n",
    "        task       = remove_watermark_task,\n",
    "        pvc_name   = pvc_name,\n",
    "        mount_path = pvc_directory\n",
    "    )\n",
    "\n",
    "    remove_watermark_task.set_caching_options(False)\n",
    "    remove_watermark_task.after(download_document_task)\n",
    "\n",
    "    # Extract text task\n",
    "\n",
    "    extract_text_task = extract_text_op(\n",
    "        pvc_directory = pvc_directory,\n",
    "        pvc_filename  = s3_filename\n",
    "    )\n",
    "\n",
    "    kubernetes.mount_pvc(\n",
    "        task       = extract_text_task,\n",
    "        pvc_name   = pvc_name,\n",
    "        mount_path = pvc_directory\n",
    "    )\n",
    "\n",
    "    extract_text_task.set_caching_options(False)\n",
    "    extract_text_task.after(remove_watermark_task)\n",
    "\n",
    "    # Index document task\n",
    "\n",
    "    index_document_task = index_document_op(\n",
    "        milvus_uri        = milvus_uri,\n",
    "        milvus_username   = milvus_username,\n",
    "        milvus_password   = milvus_password,\n",
    "        milvus_collection = milvus_collection,\n",
    "        pvc_directory     = pvc_directory,\n",
    "        pvc_filename      = s3_filename\n",
    "    )\n",
    "\n",
    "    kubernetes.mount_pvc(\n",
    "        task       = index_document_task,\n",
    "        pvc_name   = pvc_name,\n",
    "        mount_path = pvc_directory\n",
    "    )\n",
    "\n",
    "    index_document_task.set_caching_options(False)\n",
    "    index_document_task.after(extract_text_task)\n",
    "\n",
    "    # LLM task\n",
    "\n",
    "    llm_task = llm_op(\n",
    "        milvus_uri        = milvus_uri,\n",
    "        milvus_username   = milvus_username,\n",
    "        milvus_password   = milvus_password,\n",
    "        milvus_collection = milvus_collection,\n",
    "        inference_server  = inference_server,\n",
    "        model_name        = model_name,\n",
    "        pvc_directory     = pvc_directory,\n",
    "        pvc_filename      = s3_filename\n",
    "    )\n",
    "\n",
    "    kubernetes.mount_pvc(\n",
    "        task       = llm_task,\n",
    "        pvc_name   = pvc_name,\n",
    "        mount_path = pvc_directory\n",
    "    )\n",
    "\n",
    "    llm_task.set_caching_options(False)\n",
    "    llm_task.after(index_document_task)\n",
    "\n",
    "    # Upload document task\n",
    "\n",
    "    upload_document_task = upload_document_op(\n",
    "        s3_service_name      = s3_service_name,\n",
    "        s3_endpoint_url      = s3_endpoint_url,\n",
    "        s3_access_key_id     = s3_access_key_id,\n",
    "        s3_secret_access_key = s3_secret_access_key,\n",
    "        s3_region            = s3_region,\n",
    "        s3_bucket            = s3_bucket,\n",
    "        pvc_directory        = pvc_directory,\n",
    "        pvc_filename         = s3_filename\n",
    "    )\n",
    "\n",
    "    kubernetes.mount_pvc(\n",
    "        task       = upload_document_task,\n",
    "        pvc_name   = pvc_name,\n",
    "        mount_path = pvc_directory\n",
    "    )\n",
    "\n",
    "    upload_document_task.set_caching_options(False)\n",
    "    upload_document_task.after(llm_task)\n",
    "\n",
    "    # Delete PVC task\n",
    "\n",
    "    delete_pvc_task = kubernetes.DeletePVC(pvc_name = pvc_name)\n",
    "    delete_pvc_task.after(upload_document_task)"
   ]
  },
  {
   "cell_type": "markdown",
   "id": "bcf5b185-9752-4617-8507-cc35e589d1fd",
   "metadata": {},
   "source": [
    "### 05 - Create pipeline yaml"
   ]
  },
  {
   "cell_type": "code",
   "execution_count": null,
   "id": "22875720-949f-458c-add4-885bb01cc4bd",
   "metadata": {
    "tags": []
   },
   "outputs": [],
   "source": [
    "pipeline_package_path = os.path.join('yaml', f'{ pipeline_name }.yaml')"
   ]
  },
  {
   "cell_type": "code",
   "execution_count": null,
   "id": "b3b1043d-6016-4d81-9dce-d846e0b7e77e",
   "metadata": {
    "tags": []
   },
   "outputs": [],
   "source": [
    "kfp.compiler.Compiler().compile(\n",
    "    pipeline_func = pipeline,\n",
    "    package_path  = pipeline_package_path\n",
    ")"
   ]
  },
  {
   "cell_type": "markdown",
   "id": "5e2d3f0c-6f1f-4a43-b3e1-1d48c1fe9703",
   "metadata": {},
   "source": [
    "### 06 - Create pipeline run"
   ]
  },
  {
   "cell_type": "code",
   "execution_count": null,
   "id": "1828a1ee-fdec-412d-80aa-3c94e6fe4786",
   "metadata": {},
   "outputs": [],
   "source": [
    "kubeflow_host = '<kubeflow_host>'"
   ]
  },
  {
   "cell_type": "code",
   "execution_count": null,
   "id": "ea9bc95f-c722-4fe2-b8ac-04a8141d9b31",
   "metadata": {},
   "outputs": [],
   "source": [
    "pipeline_arguments = {\n",
    "    's3_service_name'      : 's3',\n",
    "    's3_endpoint_url'      : '<s3_endpoint_url>',\n",
    "    's3_access_key_id'     : '<s3_access_key_id>',\n",
    "    's3_secret_access_key' : '<s3_secret_access_key>',\n",
    "    's3_region'            : '<s3_region>',\n",
    "    's3_bucket'            : '<s3_bucket>',\n",
    "    's3_filename'          : '<s3_filename>',\n",
    "    'milvus_uri'           : '<milvus_uri>',\n",
    "    'milvus_username'      : '<milvus_username>',\n",
    "    'milvus_password'      : '<milvus_password>',\n",
    "    'milvus_collection'    : '<milvus_collection>',\n",
    "    'inference_server'     : '<inference_server>',\n",
    "    'model_name'           : '<model_name>',\n",
    "    'remove_watermark'     : True,\n",
    "    'storage_class_name'   : '<storage_class_name>'\n",
    "}"
   ]
  },
  {
   "cell_type": "code",
   "execution_count": null,
   "id": "0c6b6983-39aa-49f3-92dc-168f0360f553",
   "metadata": {
    "tags": []
   },
   "outputs": [],
   "source": [
    "kfp.client.Client(host = kubeflow_host).create_run_from_pipeline_package(\n",
    "    pipeline_file = pipeline_package_path,\n",
    "    arguments     = pipeline_arguments\n",
    ")"
   ]
  }
 ],
 "metadata": {
  "kernelspec": {
   "display_name": "Python 3.9",
   "language": "python",
   "name": "python3"
  },
  "language_info": {
   "codemirror_mode": {
    "name": "ipython",
    "version": 3
   },
   "file_extension": ".py",
   "mimetype": "text/x-python",
   "name": "python",
   "nbconvert_exporter": "python",
   "pygments_lexer": "ipython3",
   "version": "3.9.16"
  }
 },
 "nbformat": 4,
 "nbformat_minor": 5
}
